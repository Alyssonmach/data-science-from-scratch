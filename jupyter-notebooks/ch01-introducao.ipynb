{
 "cells": [
  {
   "cell_type": "markdown",
   "id": "difficult-diesel",
   "metadata": {},
   "source": [
    "# Capítulo 01 - Introdução\n",
    "***\n",
    "- `Repositório original`: [data-science-from-scratch](https://github.com/joelgrus/data-science-from-scratch) "
   ]
  },
  {
   "cell_type": "markdown",
   "id": "knowing-exclusive",
   "metadata": {},
   "source": [
    "## Encontrando conectores-chaves"
   ]
  },
  {
   "cell_type": "code",
   "execution_count": 1,
   "id": "defensive-divide",
   "metadata": {},
   "outputs": [],
   "source": [
    "class lista_usuarios():\n",
    "    '''lista de usuários com nome e id'''\n",
    "    \n",
    "    def __init__(self, users = []):\n",
    "        self.users = users\n",
    "        \n",
    "    def append_user(self, token):\n",
    "        self.users.append(token)\n",
    "        \n",
    "    def add_user(self, id_, name):\n",
    "        token = {'id': id_, 'name': name}\n",
    "        self.append_user(token)\n",
    "        \n",
    "    def get_users(self):\n",
    "        return self.users"
   ]
  },
  {
   "cell_type": "code",
   "execution_count": 2,
   "id": "supported-punishment",
   "metadata": {},
   "outputs": [
    {
     "name": "stdout",
     "output_type": "stream",
     "text": [
      "{'id': 0, 'name': 'Hero'}\n",
      "{'id': 1, 'name': 'Dunn'}\n",
      "{'id': 2, 'name': 'Sue'}\n",
      "{'id': 3, 'name': 'Chi'}\n",
      "{'id': 4, 'name': 'Thor'}\n",
      "{'id': 5, 'name': 'Clive'}\n",
      "{'id': 6, 'name': 'Hicks'}\n",
      "{'id': 7, 'name': 'Devin'}\n",
      "{'id': 8, 'name': 'Kate'}\n",
      "{'id': 9, 'name': 'Klein'}\n"
     ]
    }
   ],
   "source": [
    "# instanciando o objeto users \n",
    "users = lista_usuarios()\n",
    "\n",
    "# adicionando ids e nomes de usuários \n",
    "users.add_user(0, 'Hero')\n",
    "users.add_user(1, 'Dunn')\n",
    "users.add_user(2, 'Sue')\n",
    "users.add_user(3, 'Chi')\n",
    "users.add_user(4, 'Thor')\n",
    "users.add_user(5, 'Clive')\n",
    "users.add_user(6, 'Hicks')\n",
    "users.add_user(7, 'Devin')\n",
    "users.add_user(8, 'Kate')\n",
    "users.add_user(9, 'Klein')\n",
    "\n",
    "# iterando sobre a lista de usuários  \n",
    "users = users.get_users()\n",
    "for user in users:\n",
    "    print(user)"
   ]
  },
  {
   "cell_type": "code",
   "execution_count": 4,
   "id": "binary-crash",
   "metadata": {},
   "outputs": [],
   "source": [
    "# dados amigáveis por dupla de ids\n",
    "friendship = [(0,1), (0,2), (1,2), (1,3), (2,3), (3,4),\n",
    "              (4,5), (5,6), (5,7), (6,8), (7,8), (8,9)]"
   ]
  },
  {
   "cell_type": "code",
   "execution_count": null,
   "id": "lovely-germany",
   "metadata": {},
   "outputs": [],
   "source": [
    "# iterando sobre a lista de usuários\n",
    "for user in users:\n",
    "    # definindo um dict vazio para criar uma lista de amigos\n",
    "    user['friends'] = []\n",
    "\n",
    "# iterando sobre a lista relação de duplas de amigos\n",
    "for i, j in friendship: \n",
    "    '''definindo os amigos de cada usuário'''\n",
    "    users[i]['friends'].append(users[j])\n",
    "    users[j]['friends'].append(users[i])"
   ]
  },
  {
   "cell_type": "code",
   "execution_count": 14,
   "id": "interstate-aberdeen",
   "metadata": {},
   "outputs": [
    {
     "name": "stdout",
     "output_type": "stream",
     "text": [
      "24\n"
     ]
    }
   ],
   "source": [
    "def number_of_friends(user):\n",
    "    '''analisando quantos amigos o usuário possui'''\n",
    "    return len(user['friends'])\n",
    "\n",
    "# definindo um gerador com as conexões de amizade de cada usuário\n",
    "connections = (number_of_friends(user) for user in users)\n",
    "# definindo o total de conexões de amizade \n",
    "total_connections = sum(connections)\n",
    "\n",
    "print(total_connections)"
   ]
  },
  {
   "cell_type": "code",
   "execution_count": 15,
   "id": "noted-survival",
   "metadata": {},
   "outputs": [
    {
     "name": "stdout",
     "output_type": "stream",
     "text": [
      "2.4\n"
     ]
    }
   ],
   "source": [
    "# obtendo o número de usuários\n",
    "num_users = len(users)\n",
    "# obtendo a média de conexões dos usuários\n",
    "avg_connections = total_connections / num_users\n",
    "\n",
    "print(avg_connections)"
   ]
  },
  {
   "cell_type": "code",
   "execution_count": 22,
   "id": "wound-paragraph",
   "metadata": {},
   "outputs": [
    {
     "data": {
      "text/plain": [
       "[(1, 3),\n",
       " (2, 3),\n",
       " (3, 3),\n",
       " (5, 3),\n",
       " (8, 3),\n",
       " (0, 2),\n",
       " (4, 2),\n",
       " (6, 2),\n",
       " (7, 2),\n",
       " (9, 1)]"
      ]
     },
     "execution_count": 22,
     "metadata": {},
     "output_type": "execute_result"
    }
   ],
   "source": [
    "# criando uma lista (ids, número de conexões)\n",
    "num_friends_by_id = [(user['id'], number_of_friends(user)) for user in users]\n",
    "# ordenando a partir dos ids com mais conexões para os com menos conexões\n",
    "sorted(num_friends_by_id, key = lambda friends: friends[1], reverse = True)"
   ]
  },
  {
   "cell_type": "markdown",
   "id": "native-constraint",
   "metadata": {},
   "source": [
    "## Cientistas de dados que você talvez conheça"
   ]
  },
  {
   "cell_type": "code",
   "execution_count": 26,
   "id": "informal-substitute",
   "metadata": {},
   "outputs": [],
   "source": [
    "def not_the_same(user, other_user):\n",
    "    '''dois usuários não são os mesmos se possuem ids iguais'''\n",
    "    return user[\"id\"] != other_user[\"id\"]\n",
    "\n",
    "def not_friends(user, other_user):\n",
    "    '''other_user não é um amigo se ele não está em user[\"friends\"]\n",
    "       isto é, se not_the_same em todas as pessoas em user['friends']'''\n",
    "    return all(not_the_same(friend, other_user) for friend in user[\"friends\"])"
   ]
  },
  {
   "cell_type": "code",
   "execution_count": 28,
   "id": "developmental-smooth",
   "metadata": {},
   "outputs": [
    {
     "name": "stdout",
     "output_type": "stream",
     "text": [
      "Counter({0: 2, 5: 1})\n"
     ]
    }
   ],
   "source": [
    "from collections import Counter\n",
    "\n",
    "def friends_of_friend_ids(user):\n",
    "    '''analisa os amigos de amigos dos usuários'''\n",
    "    return Counter(foaf[\"id\"] \n",
    "                   for friend in user[\"friends\"]  # para cada um dos meus amigos\n",
    "                   for foaf in friend[\"friends\"]  # conte seus amigos\n",
    "                   if not_the_same(user, foaf)    # que não seja eu \n",
    "                   and not_friends(user, foaf))   # e que não são meus amigos\n",
    "\n",
    "print(friends_of_friend_ids(users[3])) "
   ]
  },
  {
   "cell_type": "code",
   "execution_count": 29,
   "id": "adequate-intent",
   "metadata": {},
   "outputs": [],
   "source": [
    "# lista de (ids, interesses)\n",
    "interests = [\n",
    "    (0, \"Hadoop\"), (0, \"Big Data\"), (0, \"HBase\"), (0, \"Java\"),\n",
    "    (0, \"Spark\"), (0, \"Storm\"), (0, \"Cassandra\"),\n",
    "    (1, \"NoSQL\"), (1, \"MongoDB\"), (1, \"Cassandra\"), (1, \"HBase\"),\n",
    "    (1, \"Postgres\"), (2, \"Python\"), (2, \"scikit-learn\"), (2, \"scipy\"),\n",
    "    (2, \"numpy\"), (2, \"statsmodels\"), (2, \"pandas\"), (3, \"R\"), (3, \"Python\"),\n",
    "    (3, \"statistics\"), (3, \"regression\"), (3, \"probability\"),\n",
    "    (4, \"machine learning\"), (4, \"regression\"), (4, \"decision trees\"),\n",
    "    (4, \"libsvm\"), (5, \"Python\"), (5, \"R\"), (5, \"Java\"), (5, \"C++\"),\n",
    "    (5, \"Haskell\"), (5, \"programming languages\"), (6, \"statistics\"),\n",
    "    (6, \"probability\"), (6, \"mathematics\"), (6, \"theory\"),\n",
    "    (7, \"machine learning\"), (7, \"scikit-learn\"), (7, \"Mahout\"),\n",
    "    (7, \"neural networks\"), (8, \"neural networks\"), (8, \"deep learning\"),\n",
    "    (8, \"Big Data\"), (8, \"artificial intelligence\"), (9, \"Hadoop\"),\n",
    "    (9, \"Java\"), (9, \"MapReduce\"), (9, \"Big Data\")\n",
    "]"
   ]
  },
  {
   "cell_type": "code",
   "execution_count": 31,
   "id": "fifty-heritage",
   "metadata": {},
   "outputs": [
    {
     "name": "stdout",
     "output_type": "stream",
     "text": [
      "[4, 7]\n"
     ]
    }
   ],
   "source": [
    "def data_scientists_who_like(target_interest):\n",
    "    '''usuários que possuem os mesmos interesses'''\n",
    "    return [user_id for user_id, user_interest in interests if user_interest == target_interest]\n",
    "\n",
    "print(data_scientists_who_like('machine learning'))"
   ]
  },
  {
   "cell_type": "code",
   "execution_count": 32,
   "id": "furnished-wealth",
   "metadata": {},
   "outputs": [],
   "source": [
    "from collections import defaultdict\n",
    "\n",
    "# chaves são os interesses, valores são ids com o mesmo interesse \n",
    "user_ids_by_interest = defaultdict(list)\n",
    "\n",
    "for user_id, interest in interests:\n",
    "    user_ids_by_interest[interest].append(user_id)\n",
    "\n",
    "# chaves são os ids, valores são os interesses de cada id  \n",
    "interests_by_user_id = defaultdict(list)\n",
    "\n",
    "for user_id, interest in interests:\n",
    "    interests_by_user_id[user_id].append(interest)"
   ]
  },
  {
   "cell_type": "code",
   "execution_count": 33,
   "id": "gentle-wyoming",
   "metadata": {},
   "outputs": [
    {
     "data": {
      "text/plain": [
       "defaultdict(list,\n",
       "            {'Hadoop': [0, 9],\n",
       "             'Big Data': [0, 8, 9],\n",
       "             'HBase': [0, 1],\n",
       "             'Java': [0, 5, 9],\n",
       "             'Spark': [0],\n",
       "             'Storm': [0],\n",
       "             'Cassandra': [0, 1],\n",
       "             'NoSQL': [1],\n",
       "             'MongoDB': [1],\n",
       "             'Postgres': [1],\n",
       "             'Python': [2, 3, 5],\n",
       "             'scikit-learn': [2, 7],\n",
       "             'scipy': [2],\n",
       "             'numpy': [2],\n",
       "             'statsmodels': [2],\n",
       "             'pandas': [2],\n",
       "             'R': [3, 5],\n",
       "             'statistics': [3, 6],\n",
       "             'regression': [3, 4],\n",
       "             'probability': [3, 6],\n",
       "             'machine learning': [4, 7],\n",
       "             'decision trees': [4],\n",
       "             'libsvm': [4],\n",
       "             'C++': [5],\n",
       "             'Haskell': [5],\n",
       "             'programming languages': [5],\n",
       "             'mathematics': [6],\n",
       "             'theory': [6],\n",
       "             'Mahout': [7],\n",
       "             'neural networks': [7, 8],\n",
       "             'deep learning': [8],\n",
       "             'artificial intelligence': [8],\n",
       "             'MapReduce': [9]})"
      ]
     },
     "execution_count": 33,
     "metadata": {},
     "output_type": "execute_result"
    }
   ],
   "source": [
    "user_ids_by_interest"
   ]
  },
  {
   "cell_type": "code",
   "execution_count": 34,
   "id": "emotional-morocco",
   "metadata": {},
   "outputs": [
    {
     "data": {
      "text/plain": [
       "defaultdict(list,\n",
       "            {0: ['Hadoop',\n",
       "              'Big Data',\n",
       "              'HBase',\n",
       "              'Java',\n",
       "              'Spark',\n",
       "              'Storm',\n",
       "              'Cassandra'],\n",
       "             1: ['NoSQL', 'MongoDB', 'Cassandra', 'HBase', 'Postgres'],\n",
       "             2: ['Python',\n",
       "              'scikit-learn',\n",
       "              'scipy',\n",
       "              'numpy',\n",
       "              'statsmodels',\n",
       "              'pandas'],\n",
       "             3: ['R', 'Python', 'statistics', 'regression', 'probability'],\n",
       "             4: ['machine learning', 'regression', 'decision trees', 'libsvm'],\n",
       "             5: ['Python',\n",
       "              'R',\n",
       "              'Java',\n",
       "              'C++',\n",
       "              'Haskell',\n",
       "              'programming languages'],\n",
       "             6: ['statistics', 'probability', 'mathematics', 'theory'],\n",
       "             7: ['machine learning',\n",
       "              'scikit-learn',\n",
       "              'Mahout',\n",
       "              'neural networks'],\n",
       "             8: ['neural networks',\n",
       "              'deep learning',\n",
       "              'Big Data',\n",
       "              'artificial intelligence'],\n",
       "             9: ['Hadoop', 'Java', 'MapReduce', 'Big Data']})"
      ]
     },
     "execution_count": 34,
     "metadata": {},
     "output_type": "execute_result"
    }
   ],
   "source": [
    "interests_by_user_id"
   ]
  },
  {
   "cell_type": "markdown",
   "id": "adjusted-thought",
   "metadata": {},
   "source": [
    "## Salários e experiência"
   ]
  },
  {
   "cell_type": "code",
   "execution_count": 41,
   "id": "natural-trigger",
   "metadata": {},
   "outputs": [],
   "source": [
    "# lista de (salários, experiência de trabalho)\n",
    "salaries_and_tenures = [(83000, 8.7), (88000, 8.1),\n",
    "                        (48000, 0.7), (76000, 6),\n",
    "                        (69000, 6.5), (76000, 7.5),\n",
    "                        (60000, 2.5), (83000, 10),\n",
    "                        (48000, 1.9), (63000, 4.2)]"
   ]
  },
  {
   "cell_type": "code",
   "execution_count": 49,
   "id": "settled-curtis",
   "metadata": {},
   "outputs": [],
   "source": [
    "import matplotlib.pyplot as plt\n",
    "\n",
    "def make_chart_salaries_by_tenure():\n",
    "    '''gráfico que relaciona o salário com anos de experiência'''\n",
    "    tenures = [tenure for salary, tenure in salaries_and_tenures]\n",
    "    salaries = [salary for salary, tenure in salaries_and_tenures]\n",
    "    plt.figure(figsize = (10,5))\n",
    "    plt.scatter(tenures, salaries)\n",
    "    plt.title('Salaries by Tenure')\n",
    "    plt.xlabel(\"Years Experience\")\n",
    "    plt.ylabel(\"Salary\")\n",
    "    plt.show()"
   ]
  },
  {
   "cell_type": "code",
   "execution_count": 50,
   "id": "julian-wallet",
   "metadata": {},
   "outputs": [
    {
     "data": {
      "image/png": "[encoded data removed]",
      "text/plain": [
       "<Figure size 720x360 with 1 Axes>"
      ]
     },
     "metadata": {
      "needs_background": "light"
     },
     "output_type": "display_data"
    }
   ],
   "source": [
    "make_chart_salaries_by_tenure()"
   ]
  },
  {
   "cell_type": "code",
   "execution_count": 60,
   "id": "aware-consumer",
   "metadata": {},
   "outputs": [
    {
     "data": {
      "text/plain": [
       "{8.7: 83000.0,\n",
       " 8.1: 88000.0,\n",
       " 0.7: 48000.0,\n",
       " 6: 76000.0,\n",
       " 6.5: 69000.0,\n",
       " 7.5: 76000.0,\n",
       " 2.5: 60000.0,\n",
       " 10: 83000.0,\n",
       " 1.9: 48000.0,\n",
       " 4.2: 63000.0}"
      ]
     },
     "execution_count": 60,
     "metadata": {},
     "output_type": "execute_result"
    }
   ],
   "source": [
    "salary_by_tenure = defaultdict(list)\n",
    "\n",
    "# salário por anos de experiência\n",
    "for salary, tenure in salaries_and_tenures:\n",
    "    salary_by_tenure[tenure].append(salary)\n",
    "\n",
    "# média salarial para cada ano\n",
    "average_salary_by_tenure = {\n",
    "    tenure : sum(salaries) / len(salaries)\n",
    "    for tenure, salaries in salary_by_tenure.items()\n",
    "}\n",
    "\n",
    "average_salary_by_tenure"
   ]
  },
  {
   "cell_type": "code",
   "execution_count": 61,
   "id": "interracial-knife",
   "metadata": {},
   "outputs": [
    {
     "data": {
      "text/plain": [
       "{'more than five': 79166.66666666667,\n",
       " 'less than two': 48000.0,\n",
       " 'between two and five': 61500.0}"
      ]
     },
     "execution_count": 61,
     "metadata": {},
     "output_type": "execute_result"
    }
   ],
   "source": [
    "def tenure_bucket(tenure):\n",
    "    '''agrupando os casos'''\n",
    "    if tenure < 2: return \"less than two\"\n",
    "    elif tenure < 5: return \"between two and five\"\n",
    "    else: return \"more than five\"\n",
    "\n",
    "salary_by_tenure_bucket = defaultdict(list)\n",
    "\n",
    "# junta os salários correspondentes para cada agrupamento\n",
    "for salary, tenure in salaries_and_tenures:\n",
    "    bucket = tenure_bucket(tenure)\n",
    "    salary_by_tenure_bucket[bucket].append(salary)\n",
    "\n",
    "# computa a média salarial para cada grupo\n",
    "average_salary_by_bucket = {\n",
    "  tenure_bucket : sum(salaries) / len(salaries)\n",
    "  for tenure_bucket, salaries in salary_by_tenure_bucket.items()\n",
    "}\n",
    "\n",
    "average_salary_by_bucket"
   ]
  },
  {
   "cell_type": "markdown",
   "id": "successful-breakdown",
   "metadata": {},
   "source": [
    "## Contas pagas"
   ]
  },
  {
   "cell_type": "code",
   "execution_count": 62,
   "id": "auburn-lesbian",
   "metadata": {},
   "outputs": [],
   "source": [
    "def predict_paid_or_unpaid(years_experience):\n",
    "    '''modelo para definir que paga as contas ou não'''\n",
    "    if years_experience < 3.0: return \"paid\"\n",
    "    elif years_experience < 8.5: return \"unpaid\"\n",
    "    else: return \"paid\""
   ]
  }
 ],
 "metadata": {
  "kernelspec": {
   "display_name": "Python 3",
   "language": "python",
   "name": "python3"
  },
  "language_info": {
   "codemirror_mode": {
    "name": "ipython",
    "version": 3
   },
   "file_extension": ".py",
   "mimetype": "text/x-python",
   "name": "python",
   "nbconvert_exporter": "python",
   "pygments_lexer": "ipython3",
   "version": "3.8.7"
  }
 },
 "nbformat": 4,
 "nbformat_minor": 5
}
